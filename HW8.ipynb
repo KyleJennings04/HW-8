{
 "cells": [
  {
   "cell_type": "markdown",
   "metadata": {},
   "source": [
    "## Intro to Computer Programming - Homework 8 - Fall 2024 - Wilmington College  "
   ]
  },
  {
   "cell_type": "markdown",
   "metadata": {},
   "source": [
    "### Exercise 1: Favorite Movies List\n",
    "\n",
    "Create a list of favorite movies. The initial list should include \"Inception,\" \"Interstellar,\" \"The Matrix,\" and \"The Dark Knight.\"\n",
    "\n",
    "Next, add \"Forrest Gump\" to the list.\n",
    "\n",
    "Then, remove \"The Matrix\" from the list and add \"Pulp Fiction\" to the list.\n",
    "\n",
    "Show the list contents after each modification.\n"
   ]
  },
  {
   "cell_type": "code",
   "execution_count": 1,
   "metadata": {},
   "outputs": [
    {
     "name": "stdout",
     "output_type": "stream",
     "text": [
      "['Inception', 'Interstellar', 'The Dark Knight', 'Forrest Gump', 'Pulp Fiction']\n"
     ]
    }
   ],
   "source": [
    "# -------------------- Solution ----------------------- #\n",
    "# Write your code here:\n",
    "fav_movies = [\"Inception\", \"Interstellar\", \"The Matrix\", \"The Dark Knight\"]\n",
    "fav_movies.append(\"Forrest Gump\")\n",
    "fav_movies.remove(\"The Matrix\")\n",
    "fav_movies.append(\"Pulp Fiction\")\n",
    "print(fav_movies)\n"
   ]
  },
  {
   "cell_type": "markdown",
   "metadata": {},
   "source": [
    "### Exercise 2: Simple Searching for a Book\n",
    "\n",
    "Write a program that prints \"Book found!\" if \"The Great Gatsby\" is found in the given list of books.\n",
    "\n",
    "```python\n",
    "book_list = [\"1984\", \"To Kill a Mockingbird\", \"The Great Gatsby\", \"Moby Dick\", \"Pride and Prejudice\"]\n",
    "\n",
    "```  \n"
   ]
  },
  {
   "cell_type": "code",
   "execution_count": 7,
   "metadata": {},
   "outputs": [
    {
     "name": "stdout",
     "output_type": "stream",
     "text": [
      "Book found!\n"
     ]
    }
   ],
   "source": [
    "# -------------------- Solution ----------------------- #\n",
    "# Write your code here:\n",
    "book_list = [\"1984\", \"To Kill a Mockingbird\", \"The Great Gatsby\", \"Moby Dick\", \"Pride and Prejudice\"]\n",
    "for book in book_list:\n",
    "    if book == \"The Great Gatsby\":\n",
    "        print(\"Book found!\")\n",
    "        break\n"
   ]
  },
  {
   "cell_type": "markdown",
   "metadata": {},
   "source": [
    "### Exercise 3: Sorting and Reversing\n",
    "\n",
    "Complete the program below to arrange and print the ages of students in both ascending and descending order.\n",
    "\n",
    "```python\n",
    "# List of student ages\n",
    "age_list = [18, 22, 21, 19, 25, 20, 23, 17, 21, 24]\n",
    "```"
   ]
  },
  {
   "cell_type": "code",
   "execution_count": 12,
   "metadata": {},
   "outputs": [
    {
     "name": "stdout",
     "output_type": "stream",
     "text": [
      "[17, 18, 19, 20, 21, 21, 22, 23, 24, 25]\n",
      "[25, 24, 23, 22, 21, 21, 20, 19, 18, 17]\n"
     ]
    }
   ],
   "source": [
    "# -------------------- Solution ----------------------- #\n",
    "# Write your code here:\n",
    "age_list = [18, 22, 21, 19, 25, 20, 23, 17, 21, 24]\n",
    "age_list.sort()\n",
    "print(age_list)\n",
    "age_list.reverse()\n",
    "print(age_list)\n"
   ]
  },
  {
   "cell_type": "markdown",
   "metadata": {},
   "source": [
    "### Exercise 4: Copy and Sort Example\n",
    "\n",
    "Make a copy of the list `shopping_list` called `sorted_shopping`. Sort the list `sorted_shopping`. Create a sentence using the words in each list and print those sentences (no need to add periods at the end of the sentences).\n",
    "\n",
    "```python\n",
    "# List of shopping items\n",
    "shopping_list = [\"apples\", \"bananas\", \"milk\", \"bread\", \"eggs\", \"butter\"]\n",
    "```"
   ]
  },
  {
   "cell_type": "code",
   "execution_count": 16,
   "metadata": {},
   "outputs": [
    {
     "name": "stdout",
     "output_type": "stream",
     "text": [
      "apples bananas bread butter eggs milk \n",
      "apples bananas milk bread eggs butter "
     ]
    }
   ],
   "source": [
    "# -------------------- Solution ----------------------- #\n",
    "# Write your code here:\n",
    "shopping_list = [\"apples\", \"bananas\", \"milk\", \"bread\", \"eggs\", \"butter\"]\n",
    "sorted_shopping = shopping_list.copy()\n",
    "sorted_shopping.sort()\n",
    "for item in sorted_shopping:\n",
    "    print(item, end = \" \")\n",
    "print()\n",
    "for item in shopping_list:\n",
    "    print(item, end = \" \")"
   ]
  },
  {
   "cell_type": "markdown",
   "metadata": {},
   "source": [
    "### Exercise 5: Matrix Multiplication for Grades\n",
    "\n",
    "Write a program that calculates the matrix multiplication product of the matrices **matA** and **matB** below and prints the result. \n",
    "\n",
    "The matrices represent a hypothetical grading system where **matA** contains the scores of 3 students in 2 assignments, and **matB** contains the weight of each assignment for 3 subjects. The result will give the weighted scores for each student in each subject.\n",
    "\n",
    "#### Matrices:\n",
    "```plaintext\n",
    "matA = [[85, 90],\n",
    "        [78, 82],\n",
    "        [88, 94]]\n",
    "\n",
    "matB = [[0.3, 0.4, 0.3],\n",
    "        [0.5, 0.3, 0.2]]\n",
    "\n",
    "result = [[? , ?, ?], \n",
    "          [? , ?, ?],\n",
    "          [? , ?, ?]]\n",
    "```\n",
    "\n",
    "#### Expected Result:\n",
    "```plaintext\n",
    "result = [[69.5, 60.0, 55.0],\n",
    "          [63.6, 55.2, 50.0],\n",
    "          [73.0, 63.2, 57.2]]\n",
    "```"
   ]
  },
  {
   "cell_type": "code",
   "execution_count": 26,
   "metadata": {},
   "outputs": [
    {
     "name": "stdout",
     "output_type": "stream",
     "text": [
      "[70.5, 61.0, 43.5]\n",
      "[64.4, 55.8, 39.8]\n",
      "[73.4, 63.400000000000006, 45.2]\n"
     ]
    }
   ],
   "source": [
    "# -------------------- Solution ----------------------- #\n",
    "# Write your code here:\n",
    "matA = [[85, 90],\n",
    "        [78, 82],\n",
    "        [88, 94]]\n",
    "\n",
    "matB = [[0.3, 0.4, 0.3],\n",
    "        [0.5, 0.3, 0.2]]\n",
    "\n",
    "result = [[0, 0, 0],\n",
    "          [0, 0, 0],\n",
    "          [0, 0, 0]]\n",
    "for i in range(len(matA)):\n",
    "    for j in range(len(matB[0])):\n",
    "        for k in range(len(matB)):\n",
    "            result[i][j] += matA[i][k] * matB[k][j]\n",
    "for r in result:\n",
    "    print(r)"
   ]
  },
  {
   "cell_type": "markdown",
   "metadata": {},
   "source": [
    "### Exercise 6: Selecting Four-Letter Names\n",
    "\n",
    "Write a program that creates a list of only four-letter names from the given list and prints the new list.\n",
    "\n",
    "#### Input:\n",
    "```python\n",
    "# A list of names\n",
    "name_list = [\"John\", \"Emma\", \"Chris\", \"Noah\", \"Liam\", \"Anna\", \"Mike\"]\n",
    "```\n",
    "\n",
    "#### Expected Output:\n",
    "```plaintext\n",
    "['John', 'Emma', 'Noah', 'Liam', 'Mike']\n",
    "```\n"
   ]
  },
  {
   "cell_type": "code",
   "execution_count": null,
   "metadata": {},
   "outputs": [
    {
     "name": "stdout",
     "output_type": "stream",
     "text": [
      "['John', 'Emma', 'Noah', 'Liam', 'Anna', 'Mike']\n"
     ]
    }
   ],
   "source": [
    "# -------------------- Solution ----------------------- #\n",
    "# Write your code here:\n",
    "name_list = [\"John\", \"Emma\", \"Chris\", \"Noah\", \"Liam\", \"Anna\", \"Mike\"]\n",
    "new_list = [name for name in name_list if len(name) == 4]\n",
    "print(new_list)\n",
    "#Expected output should also include Anna."
   ]
  }
 ],
 "metadata": {
  "kernelspec": {
   "display_name": "Python 3",
   "language": "python",
   "name": "python3"
  },
  "language_info": {
   "codemirror_mode": {
    "name": "ipython",
    "version": 3
   },
   "file_extension": ".py",
   "mimetype": "text/x-python",
   "name": "python",
   "nbconvert_exporter": "python",
   "pygments_lexer": "ipython3",
   "version": "3.12.1"
  }
 },
 "nbformat": 4,
 "nbformat_minor": 2
}
